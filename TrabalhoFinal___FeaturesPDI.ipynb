{
  "nbformat": 4,
  "nbformat_minor": 0,
  "metadata": {
    "colab": {
      "name": "TrabalhoFinal_-_FeaturesPDI.ipynb",
      "provenance": [],
      "toc_visible": true
    },
    "kernelspec": {
      "name": "python3",
      "display_name": "Python 3"
    }
  },
  "cells": [
    {
      "cell_type": "markdown",
      "metadata": {
        "id": "6l2_LkUpCjuW",
        "colab_type": "text"
      },
      "source": [
        "# 1. Machine Lerning aplicada à predição de Câncer de Pele"
      ]
    },
    {
      "cell_type": "markdown",
      "metadata": {
        "id": "R6BsX6XMCqMc",
        "colab_type": "text"
      },
      "source": [
        "## 1.1 Introdução do problema"
      ]
    },
    {
      "cell_type": "markdown",
      "metadata": {
        "id": "7yZVMpXMGVGD",
        "colab_type": "text"
      },
      "source": [
        "O problema necessita de aprendizagem supervisionada. É uma atividade de classificação. \n",
        "\n",
        "Batch Learning ou online Learning? \n",
        "\n",
        "Serão testados diferentes algoritmos supervisionados. A medida de desempenho utilizada será a acurácia, especificidades e sensibilidade (matriz de confusão)."
      ]
    },
    {
      "cell_type": "markdown",
      "metadata": {
        "id": "Fmzq1jYzEd70",
        "colab_type": "text"
      },
      "source": [
        "## 1.2 Get Data\n",
        "\n"
      ]
    },
    {
      "cell_type": "markdown",
      "metadata": {
        "id": "Jh7J1rgnzOtg",
        "colab_type": "text"
      },
      "source": [
        "Informar a descrição dessas variáveis."
      ]
    },
    {
      "cell_type": "code",
      "metadata": {
        "id": "Kbb4KzVOZBVS",
        "colab_type": "code",
        "outputId": "cb8a8f02-24ae-4ca2-b0d0-def5d35433ed",
        "colab": {
          "base_uri": "https://localhost:8080/",
          "height": 221
        }
      },
      "source": [
        "import pandas as pd\n",
        "\n",
        "# read the dataset to a Pandas' dataframe\n",
        "data = pd.read_csv(\"DadosGeral.txt\", sep='\\t')\n",
        "\n",
        "# data shape\n",
        "print(data.shape)\n",
        "data.head()"
      ],
      "execution_count": 3,
      "outputs": [
        {
          "output_type": "stream",
          "text": [
            "(1200, 11)\n"
          ],
          "name": "stdout"
        },
        {
          "output_type": "execute_result",
          "data": {
            "text/html": [
              "<div>\n",
              "<style scoped>\n",
              "    .dataframe tbody tr th:only-of-type {\n",
              "        vertical-align: middle;\n",
              "    }\n",
              "\n",
              "    .dataframe tbody tr th {\n",
              "        vertical-align: top;\n",
              "    }\n",
              "\n",
              "    .dataframe thead th {\n",
              "        text-align: right;\n",
              "    }\n",
              "</style>\n",
              "<table border=\"1\" class=\"dataframe\">\n",
              "  <thead>\n",
              "    <tr style=\"text-align: right;\">\n",
              "      <th></th>\n",
              "      <th>symmetry_x</th>\n",
              "      <th>symmetry_y</th>\n",
              "      <th>diameter</th>\n",
              "      <th>variance_r</th>\n",
              "      <th>variance_g</th>\n",
              "      <th>variance_b</th>\n",
              "      <th>average_r</th>\n",
              "      <th>average_g</th>\n",
              "      <th>average_b</th>\n",
              "      <th>blue-whitish_veil</th>\n",
              "      <th>clinical_diagnosis</th>\n",
              "    </tr>\n",
              "  </thead>\n",
              "  <tbody>\n",
              "    <tr>\n",
              "      <th>0</th>\n",
              "      <td>806</td>\n",
              "      <td>456</td>\n",
              "      <td>226</td>\n",
              "      <td>297.628</td>\n",
              "      <td>615.890</td>\n",
              "      <td>1218.480</td>\n",
              "      <td>55.4818</td>\n",
              "      <td>84.9337</td>\n",
              "      <td>145.976</td>\n",
              "      <td>4</td>\n",
              "      <td>Atypical</td>\n",
              "    </tr>\n",
              "    <tr>\n",
              "      <th>1</th>\n",
              "      <td>45</td>\n",
              "      <td>159</td>\n",
              "      <td>144</td>\n",
              "      <td>355.300</td>\n",
              "      <td>406.200</td>\n",
              "      <td>545.299</td>\n",
              "      <td>94.5793</td>\n",
              "      <td>98.8138</td>\n",
              "      <td>139.898</td>\n",
              "      <td>146</td>\n",
              "      <td>Common</td>\n",
              "    </tr>\n",
              "    <tr>\n",
              "      <th>2</th>\n",
              "      <td>998</td>\n",
              "      <td>670</td>\n",
              "      <td>184</td>\n",
              "      <td>478.496</td>\n",
              "      <td>638.963</td>\n",
              "      <td>1189.560</td>\n",
              "      <td>84.0958</td>\n",
              "      <td>90.7283</td>\n",
              "      <td>134.997</td>\n",
              "      <td>35</td>\n",
              "      <td>Atypical</td>\n",
              "    </tr>\n",
              "    <tr>\n",
              "      <th>3</th>\n",
              "      <td>884</td>\n",
              "      <td>934</td>\n",
              "      <td>192</td>\n",
              "      <td>388.811</td>\n",
              "      <td>307.433</td>\n",
              "      <td>556.579</td>\n",
              "      <td>94.9663</td>\n",
              "      <td>123.3360</td>\n",
              "      <td>179.045</td>\n",
              "      <td>321</td>\n",
              "      <td>Atypical</td>\n",
              "    </tr>\n",
              "    <tr>\n",
              "      <th>4</th>\n",
              "      <td>377</td>\n",
              "      <td>93</td>\n",
              "      <td>148</td>\n",
              "      <td>975.527</td>\n",
              "      <td>644.466</td>\n",
              "      <td>485.322</td>\n",
              "      <td>111.4910</td>\n",
              "      <td>148.6690</td>\n",
              "      <td>201.290</td>\n",
              "      <td>0</td>\n",
              "      <td>Atypical</td>\n",
              "    </tr>\n",
              "  </tbody>\n",
              "</table>\n",
              "</div>"
            ],
            "text/plain": [
              "   symmetry_x  symmetry_y  ...  blue-whitish_veil  clinical_diagnosis\n",
              "0         806         456  ...                  4            Atypical\n",
              "1          45         159  ...                146              Common\n",
              "2         998         670  ...                 35            Atypical\n",
              "3         884         934  ...                321            Atypical\n",
              "4         377          93  ...                  0            Atypical\n",
              "\n",
              "[5 rows x 11 columns]"
            ]
          },
          "metadata": {
            "tags": []
          },
          "execution_count": 3
        }
      ]
    },
    {
      "cell_type": "code",
      "metadata": {
        "id": "1raFG8Np_KZZ",
        "colab_type": "code",
        "outputId": "1608f7f4-8575-4ef7-a314-272959bb44a7",
        "colab": {
          "base_uri": "https://localhost:8080/",
          "height": 289
        }
      },
      "source": [
        "data.info()"
      ],
      "execution_count": 4,
      "outputs": [
        {
          "output_type": "stream",
          "text": [
            "<class 'pandas.core.frame.DataFrame'>\n",
            "RangeIndex: 1200 entries, 0 to 1199\n",
            "Data columns (total 11 columns):\n",
            "symmetry_x            1200 non-null int64\n",
            "symmetry_y            1200 non-null int64\n",
            "diameter              1200 non-null int64\n",
            "variance_r            1200 non-null float64\n",
            "variance_g            1200 non-null float64\n",
            "variance_b            1200 non-null float64\n",
            "average_r             1200 non-null float64\n",
            "average_g             1200 non-null float64\n",
            "average_b             1200 non-null float64\n",
            "blue-whitish_veil     1200 non-null int64\n",
            "clinical_diagnosis    1200 non-null object\n",
            "dtypes: float64(6), int64(4), object(1)\n",
            "memory usage: 103.2+ KB\n"
          ],
          "name": "stdout"
        }
      ]
    },
    {
      "cell_type": "code",
      "metadata": {
        "id": "N5wuSl7sDEO7",
        "colab_type": "code",
        "outputId": "31716ae7-45f6-4c7a-ac82-0f36d3d7c88e",
        "colab": {
          "base_uri": "https://localhost:8080/",
          "height": 85
        }
      },
      "source": [
        "# Quantidade de dados por tipo de diagnóstico\n",
        "\n",
        "data.clinical_diagnosis.value_counts()"
      ],
      "execution_count": 5,
      "outputs": [
        {
          "output_type": "execute_result",
          "data": {
            "text/plain": [
              "Common      480\n",
              "Atypical    480\n",
              "Melanoma    240\n",
              "Name: clinical_diagnosis, dtype: int64"
            ]
          },
          "metadata": {
            "tags": []
          },
          "execution_count": 5
        }
      ]
    },
    {
      "cell_type": "code",
      "metadata": {
        "id": "MSgVR8T-DmRC",
        "colab_type": "code",
        "outputId": "4735c951-9a7f-4eec-899e-f327c0118b71",
        "colab": {
          "base_uri": "https://localhost:8080/",
          "height": 297
        }
      },
      "source": [
        "data.describe()"
      ],
      "execution_count": 6,
      "outputs": [
        {
          "output_type": "execute_result",
          "data": {
            "text/html": [
              "<div>\n",
              "<style scoped>\n",
              "    .dataframe tbody tr th:only-of-type {\n",
              "        vertical-align: middle;\n",
              "    }\n",
              "\n",
              "    .dataframe tbody tr th {\n",
              "        vertical-align: top;\n",
              "    }\n",
              "\n",
              "    .dataframe thead th {\n",
              "        text-align: right;\n",
              "    }\n",
              "</style>\n",
              "<table border=\"1\" class=\"dataframe\">\n",
              "  <thead>\n",
              "    <tr style=\"text-align: right;\">\n",
              "      <th></th>\n",
              "      <th>symmetry_x</th>\n",
              "      <th>symmetry_y</th>\n",
              "      <th>diameter</th>\n",
              "      <th>variance_r</th>\n",
              "      <th>variance_g</th>\n",
              "      <th>variance_b</th>\n",
              "      <th>average_r</th>\n",
              "      <th>average_g</th>\n",
              "      <th>average_b</th>\n",
              "      <th>blue-whitish_veil</th>\n",
              "    </tr>\n",
              "  </thead>\n",
              "  <tbody>\n",
              "    <tr>\n",
              "      <th>count</th>\n",
              "      <td>1200.000000</td>\n",
              "      <td>1200.000000</td>\n",
              "      <td>1200.000000</td>\n",
              "      <td>1200.000000</td>\n",
              "      <td>1200.000000</td>\n",
              "      <td>1200.000000</td>\n",
              "      <td>1200.000000</td>\n",
              "      <td>1200.000000</td>\n",
              "      <td>1200.000000</td>\n",
              "      <td>1200.0000</td>\n",
              "    </tr>\n",
              "    <tr>\n",
              "      <th>mean</th>\n",
              "      <td>739.061667</td>\n",
              "      <td>712.573333</td>\n",
              "      <td>242.875000</td>\n",
              "      <td>562.086956</td>\n",
              "      <td>698.106881</td>\n",
              "      <td>941.940743</td>\n",
              "      <td>78.540319</td>\n",
              "      <td>108.332405</td>\n",
              "      <td>167.811958</td>\n",
              "      <td>926.8550</td>\n",
              "    </tr>\n",
              "    <tr>\n",
              "      <th>std</th>\n",
              "      <td>1295.399994</td>\n",
              "      <td>1304.198636</td>\n",
              "      <td>89.821012</td>\n",
              "      <td>316.370230</td>\n",
              "      <td>373.275379</td>\n",
              "      <td>638.726257</td>\n",
              "      <td>24.221507</td>\n",
              "      <td>23.918657</td>\n",
              "      <td>36.356811</td>\n",
              "      <td>3348.7665</td>\n",
              "    </tr>\n",
              "    <tr>\n",
              "      <th>min</th>\n",
              "      <td>0.000000</td>\n",
              "      <td>0.000000</td>\n",
              "      <td>72.000000</td>\n",
              "      <td>92.438800</td>\n",
              "      <td>112.714000</td>\n",
              "      <td>42.723800</td>\n",
              "      <td>29.297800</td>\n",
              "      <td>54.822600</td>\n",
              "      <td>79.469900</td>\n",
              "      <td>0.0000</td>\n",
              "    </tr>\n",
              "    <tr>\n",
              "      <th>25%</th>\n",
              "      <td>210.000000</td>\n",
              "      <td>211.000000</td>\n",
              "      <td>168.000000</td>\n",
              "      <td>340.000250</td>\n",
              "      <td>414.872500</td>\n",
              "      <td>484.836750</td>\n",
              "      <td>59.986975</td>\n",
              "      <td>92.602125</td>\n",
              "      <td>139.898000</td>\n",
              "      <td>0.0000</td>\n",
              "    </tr>\n",
              "    <tr>\n",
              "      <th>50%</th>\n",
              "      <td>445.000000</td>\n",
              "      <td>432.000000</td>\n",
              "      <td>226.000000</td>\n",
              "      <td>491.768500</td>\n",
              "      <td>632.463500</td>\n",
              "      <td>787.318000</td>\n",
              "      <td>75.166550</td>\n",
              "      <td>107.009000</td>\n",
              "      <td>171.521000</td>\n",
              "      <td>0.0000</td>\n",
              "    </tr>\n",
              "    <tr>\n",
              "      <th>75%</th>\n",
              "      <td>813.250000</td>\n",
              "      <td>780.500000</td>\n",
              "      <td>306.500000</td>\n",
              "      <td>697.559000</td>\n",
              "      <td>901.512500</td>\n",
              "      <td>1232.220000</td>\n",
              "      <td>91.490175</td>\n",
              "      <td>125.227750</td>\n",
              "      <td>194.552750</td>\n",
              "      <td>36.0000</td>\n",
              "    </tr>\n",
              "    <tr>\n",
              "      <th>max</th>\n",
              "      <td>17062.000000</td>\n",
              "      <td>17062.000000</td>\n",
              "      <td>448.000000</td>\n",
              "      <td>1630.380000</td>\n",
              "      <td>2025.510000</td>\n",
              "      <td>3657.290000</td>\n",
              "      <td>149.557000</td>\n",
              "      <td>164.618000</td>\n",
              "      <td>246.271000</td>\n",
              "      <td>29395.0000</td>\n",
              "    </tr>\n",
              "  </tbody>\n",
              "</table>\n",
              "</div>"
            ],
            "text/plain": [
              "         symmetry_x    symmetry_y  ...    average_b  blue-whitish_veil\n",
              "count   1200.000000   1200.000000  ...  1200.000000          1200.0000\n",
              "mean     739.061667    712.573333  ...   167.811958           926.8550\n",
              "std     1295.399994   1304.198636  ...    36.356811          3348.7665\n",
              "min        0.000000      0.000000  ...    79.469900             0.0000\n",
              "25%      210.000000    211.000000  ...   139.898000             0.0000\n",
              "50%      445.000000    432.000000  ...   171.521000             0.0000\n",
              "75%      813.250000    780.500000  ...   194.552750            36.0000\n",
              "max    17062.000000  17062.000000  ...   246.271000         29395.0000\n",
              "\n",
              "[8 rows x 10 columns]"
            ]
          },
          "metadata": {
            "tags": []
          },
          "execution_count": 6
        }
      ]
    },
    {
      "cell_type": "markdown",
      "metadata": {
        "id": "vIFWWL44ccz3",
        "colab_type": "text"
      },
      "source": [
        "### 3 1.2.1 Discovery and visualize the Data to Gain Insight"
      ]
    },
    {
      "cell_type": "markdown",
      "metadata": {
        "id": "OEVah_4wcooi",
        "colab_type": "text"
      },
      "source": [
        "\n",
        "Since the dataset is not too large, you can easily compute the standard correlation coefficient (also called Pearson’s r) between every pair of attributes using the **corr()** method:"
      ]
    },
    {
      "cell_type": "code",
      "metadata": {
        "id": "kiQx_NNxcmp9",
        "colab_type": "code",
        "outputId": "3d0ddfbb-7313-4b67-ccb1-1108b6af5e10",
        "colab": {
          "base_uri": "https://localhost:8080/",
          "height": 204
        }
      },
      "source": [
        "corr_matrix = data.corr()\n",
        "corr_matrix[\"diameter\"].\\\n",
        "  sort_values(ascending=False)"
      ],
      "execution_count": 7,
      "outputs": [
        {
          "output_type": "execute_result",
          "data": {
            "text/plain": [
              "diameter             1.000000\n",
              "blue-whitish_veil    0.372143\n",
              "variance_r           0.268999\n",
              "average_r            0.263263\n",
              "symmetry_x           0.257008\n",
              "variance_b           0.255310\n",
              "symmetry_y           0.236157\n",
              "variance_g           0.200497\n",
              "average_g           -0.065255\n",
              "average_b           -0.152442\n",
              "Name: diameter, dtype: float64"
            ]
          },
          "metadata": {
            "tags": []
          },
          "execution_count": 7
        }
      ]
    },
    {
      "cell_type": "markdown",
      "metadata": {
        "id": "OIsFKRylExwZ",
        "colab_type": "text"
      },
      "source": [
        "## 1.3 Clean, Prepare & Manipulate Data\n"
      ]
    },
    {
      "cell_type": "markdown",
      "metadata": {
        "id": "eqYiNc-uN90t",
        "colab_type": "text"
      },
      "source": [
        "the values in the maximum_nights and number_of_reviews columns span much larger ranges. For example, the maximum_nights column has values as low as 27 and high as 1125, in the first few rows itself. If we use these 2 columns as part of a k-nearest neighbors model, these attributes could end up having an outsized effect on the distance calculations because of the largeness of the values. To prevent any single column from having too much of an impact on the distance, we can normalize all of the columns to have a mean of 0 and a standard deviation of 1.\n",
        "\n",
        "Normalizing the values in each columns to the [standard normal distribution](https://en.wikipedia.org/wiki/Normal_distribution#Standard_normal_distribution) (mean of 0, standard deviation of 1) preserves the distribution of the values in each column while aligning the scales. To normalize the values in a column to the standard normal distribution, you need to:\n",
        "\n",
        "- from each value, subtract the mean of the column\n",
        "- divide each value by the standard deviation of the column"
      ]
    },
    {
      "cell_type": "code",
      "metadata": {
        "id": "_PfJvPg8zJ2b",
        "colab_type": "code",
        "outputId": "1348f543-82e5-4554-ac67-d6aca51ce49f",
        "colab": {
          "base_uri": "https://localhost:8080/",
          "height": 297
        }
      },
      "source": [
        "data_aux = data.drop('clinical_diagnosis', axis=1)\n",
        "data_aux.describe()"
      ],
      "execution_count": 8,
      "outputs": [
        {
          "output_type": "execute_result",
          "data": {
            "text/html": [
              "<div>\n",
              "<style scoped>\n",
              "    .dataframe tbody tr th:only-of-type {\n",
              "        vertical-align: middle;\n",
              "    }\n",
              "\n",
              "    .dataframe tbody tr th {\n",
              "        vertical-align: top;\n",
              "    }\n",
              "\n",
              "    .dataframe thead th {\n",
              "        text-align: right;\n",
              "    }\n",
              "</style>\n",
              "<table border=\"1\" class=\"dataframe\">\n",
              "  <thead>\n",
              "    <tr style=\"text-align: right;\">\n",
              "      <th></th>\n",
              "      <th>symmetry_x</th>\n",
              "      <th>symmetry_y</th>\n",
              "      <th>diameter</th>\n",
              "      <th>variance_r</th>\n",
              "      <th>variance_g</th>\n",
              "      <th>variance_b</th>\n",
              "      <th>average_r</th>\n",
              "      <th>average_g</th>\n",
              "      <th>average_b</th>\n",
              "      <th>blue-whitish_veil</th>\n",
              "    </tr>\n",
              "  </thead>\n",
              "  <tbody>\n",
              "    <tr>\n",
              "      <th>count</th>\n",
              "      <td>1200.000000</td>\n",
              "      <td>1200.000000</td>\n",
              "      <td>1200.000000</td>\n",
              "      <td>1200.000000</td>\n",
              "      <td>1200.000000</td>\n",
              "      <td>1200.000000</td>\n",
              "      <td>1200.000000</td>\n",
              "      <td>1200.000000</td>\n",
              "      <td>1200.000000</td>\n",
              "      <td>1200.0000</td>\n",
              "    </tr>\n",
              "    <tr>\n",
              "      <th>mean</th>\n",
              "      <td>739.061667</td>\n",
              "      <td>712.573333</td>\n",
              "      <td>242.875000</td>\n",
              "      <td>562.086956</td>\n",
              "      <td>698.106881</td>\n",
              "      <td>941.940743</td>\n",
              "      <td>78.540319</td>\n",
              "      <td>108.332405</td>\n",
              "      <td>167.811958</td>\n",
              "      <td>926.8550</td>\n",
              "    </tr>\n",
              "    <tr>\n",
              "      <th>std</th>\n",
              "      <td>1295.399994</td>\n",
              "      <td>1304.198636</td>\n",
              "      <td>89.821012</td>\n",
              "      <td>316.370230</td>\n",
              "      <td>373.275379</td>\n",
              "      <td>638.726257</td>\n",
              "      <td>24.221507</td>\n",
              "      <td>23.918657</td>\n",
              "      <td>36.356811</td>\n",
              "      <td>3348.7665</td>\n",
              "    </tr>\n",
              "    <tr>\n",
              "      <th>min</th>\n",
              "      <td>0.000000</td>\n",
              "      <td>0.000000</td>\n",
              "      <td>72.000000</td>\n",
              "      <td>92.438800</td>\n",
              "      <td>112.714000</td>\n",
              "      <td>42.723800</td>\n",
              "      <td>29.297800</td>\n",
              "      <td>54.822600</td>\n",
              "      <td>79.469900</td>\n",
              "      <td>0.0000</td>\n",
              "    </tr>\n",
              "    <tr>\n",
              "      <th>25%</th>\n",
              "      <td>210.000000</td>\n",
              "      <td>211.000000</td>\n",
              "      <td>168.000000</td>\n",
              "      <td>340.000250</td>\n",
              "      <td>414.872500</td>\n",
              "      <td>484.836750</td>\n",
              "      <td>59.986975</td>\n",
              "      <td>92.602125</td>\n",
              "      <td>139.898000</td>\n",
              "      <td>0.0000</td>\n",
              "    </tr>\n",
              "    <tr>\n",
              "      <th>50%</th>\n",
              "      <td>445.000000</td>\n",
              "      <td>432.000000</td>\n",
              "      <td>226.000000</td>\n",
              "      <td>491.768500</td>\n",
              "      <td>632.463500</td>\n",
              "      <td>787.318000</td>\n",
              "      <td>75.166550</td>\n",
              "      <td>107.009000</td>\n",
              "      <td>171.521000</td>\n",
              "      <td>0.0000</td>\n",
              "    </tr>\n",
              "    <tr>\n",
              "      <th>75%</th>\n",
              "      <td>813.250000</td>\n",
              "      <td>780.500000</td>\n",
              "      <td>306.500000</td>\n",
              "      <td>697.559000</td>\n",
              "      <td>901.512500</td>\n",
              "      <td>1232.220000</td>\n",
              "      <td>91.490175</td>\n",
              "      <td>125.227750</td>\n",
              "      <td>194.552750</td>\n",
              "      <td>36.0000</td>\n",
              "    </tr>\n",
              "    <tr>\n",
              "      <th>max</th>\n",
              "      <td>17062.000000</td>\n",
              "      <td>17062.000000</td>\n",
              "      <td>448.000000</td>\n",
              "      <td>1630.380000</td>\n",
              "      <td>2025.510000</td>\n",
              "      <td>3657.290000</td>\n",
              "      <td>149.557000</td>\n",
              "      <td>164.618000</td>\n",
              "      <td>246.271000</td>\n",
              "      <td>29395.0000</td>\n",
              "    </tr>\n",
              "  </tbody>\n",
              "</table>\n",
              "</div>"
            ],
            "text/plain": [
              "         symmetry_x    symmetry_y  ...    average_b  blue-whitish_veil\n",
              "count   1200.000000   1200.000000  ...  1200.000000          1200.0000\n",
              "mean     739.061667    712.573333  ...   167.811958           926.8550\n",
              "std     1295.399994   1304.198636  ...    36.356811          3348.7665\n",
              "min        0.000000      0.000000  ...    79.469900             0.0000\n",
              "25%      210.000000    211.000000  ...   139.898000             0.0000\n",
              "50%      445.000000    432.000000  ...   171.521000             0.0000\n",
              "75%      813.250000    780.500000  ...   194.552750            36.0000\n",
              "max    17062.000000  17062.000000  ...   246.271000         29395.0000\n",
              "\n",
              "[8 rows x 10 columns]"
            ]
          },
          "metadata": {
            "tags": []
          },
          "execution_count": 8
        }
      ]
    },
    {
      "cell_type": "code",
      "metadata": {
        "id": "ThsODq-RbhBj",
        "colab_type": "code",
        "outputId": "9e629a1e-3972-4763-b6bc-56cb88b6c632",
        "colab": {
          "base_uri": "https://localhost:8080/",
          "height": 382
        }
      },
      "source": [
        "from sklearn.preprocessing import StandardScaler\n",
        "\n",
        "# apply z-score (mean=0, std=1)\n",
        "normalized = pd.DataFrame(StandardScaler().fit_transform(data_aux),\n",
        "                            columns=data_aux.columns,\n",
        "                            index=data_aux.index)\n",
        "normalized.describe()"
      ],
      "execution_count": 9,
      "outputs": [
        {
          "output_type": "execute_result",
          "data": {
            "text/html": [
              "<div>\n",
              "<style scoped>\n",
              "    .dataframe tbody tr th:only-of-type {\n",
              "        vertical-align: middle;\n",
              "    }\n",
              "\n",
              "    .dataframe tbody tr th {\n",
              "        vertical-align: top;\n",
              "    }\n",
              "\n",
              "    .dataframe thead th {\n",
              "        text-align: right;\n",
              "    }\n",
              "</style>\n",
              "<table border=\"1\" class=\"dataframe\">\n",
              "  <thead>\n",
              "    <tr style=\"text-align: right;\">\n",
              "      <th></th>\n",
              "      <th>symmetry_x</th>\n",
              "      <th>symmetry_y</th>\n",
              "      <th>diameter</th>\n",
              "      <th>variance_r</th>\n",
              "      <th>variance_g</th>\n",
              "      <th>variance_b</th>\n",
              "      <th>average_r</th>\n",
              "      <th>average_g</th>\n",
              "      <th>average_b</th>\n",
              "      <th>blue-whitish_veil</th>\n",
              "    </tr>\n",
              "  </thead>\n",
              "  <tbody>\n",
              "    <tr>\n",
              "      <th>count</th>\n",
              "      <td>1.200000e+03</td>\n",
              "      <td>1.200000e+03</td>\n",
              "      <td>1.200000e+03</td>\n",
              "      <td>1.200000e+03</td>\n",
              "      <td>1.200000e+03</td>\n",
              "      <td>1.200000e+03</td>\n",
              "      <td>1.200000e+03</td>\n",
              "      <td>1.200000e+03</td>\n",
              "      <td>1.200000e+03</td>\n",
              "      <td>1.200000e+03</td>\n",
              "    </tr>\n",
              "    <tr>\n",
              "      <th>mean</th>\n",
              "      <td>5.592748e-17</td>\n",
              "      <td>-3.663736e-17</td>\n",
              "      <td>-3.404684e-17</td>\n",
              "      <td>-3.178939e-16</td>\n",
              "      <td>1.421085e-16</td>\n",
              "      <td>-1.200891e-16</td>\n",
              "      <td>1.326717e-16</td>\n",
              "      <td>-3.389881e-16</td>\n",
              "      <td>-2.038878e-17</td>\n",
              "      <td>-3.888094e-16</td>\n",
              "    </tr>\n",
              "    <tr>\n",
              "      <th>std</th>\n",
              "      <td>1.000417e+00</td>\n",
              "      <td>1.000417e+00</td>\n",
              "      <td>1.000417e+00</td>\n",
              "      <td>1.000417e+00</td>\n",
              "      <td>1.000417e+00</td>\n",
              "      <td>1.000417e+00</td>\n",
              "      <td>1.000417e+00</td>\n",
              "      <td>1.000417e+00</td>\n",
              "      <td>1.000417e+00</td>\n",
              "      <td>1.000417e+00</td>\n",
              "    </tr>\n",
              "    <tr>\n",
              "      <th>min</th>\n",
              "      <td>-5.707656e-01</td>\n",
              "      <td>-5.465965e-01</td>\n",
              "      <td>-1.903188e+00</td>\n",
              "      <td>-1.485108e+00</td>\n",
              "      <td>-1.568914e+00</td>\n",
              "      <td>-1.408415e+00</td>\n",
              "      <td>-2.033856e+00</td>\n",
              "      <td>-2.238090e+00</td>\n",
              "      <td>-2.430876e+00</td>\n",
              "      <td>-2.768904e-01</td>\n",
              "    </tr>\n",
              "    <tr>\n",
              "      <th>25%</th>\n",
              "      <td>-4.085860e-01</td>\n",
              "      <td>-3.847439e-01</td>\n",
              "      <td>-8.339498e-01</td>\n",
              "      <td>-7.022763e-01</td>\n",
              "      <td>-7.590977e-01</td>\n",
              "      <td>-7.159477e-01</td>\n",
              "      <td>-7.663057e-01</td>\n",
              "      <td>-6.579315e-01</td>\n",
              "      <td>-7.680981e-01</td>\n",
              "      <td>-2.768904e-01</td>\n",
              "    </tr>\n",
              "    <tr>\n",
              "      <th>50%</th>\n",
              "      <td>-2.270992e-01</td>\n",
              "      <td>-2.152205e-01</td>\n",
              "      <td>-1.879520e-01</td>\n",
              "      <td>-2.223590e-01</td>\n",
              "      <td>-1.759311e-01</td>\n",
              "      <td>-2.421808e-01</td>\n",
              "      <td>-1.393462e-01</td>\n",
              "      <td>-5.535248e-02</td>\n",
              "      <td>1.020603e-01</td>\n",
              "      <td>-2.768904e-01</td>\n",
              "    </tr>\n",
              "    <tr>\n",
              "      <th>75%</th>\n",
              "      <td>5.729448e-02</td>\n",
              "      <td>5.210478e-02</td>\n",
              "      <td>7.086485e-01</td>\n",
              "      <td>4.283858e-01</td>\n",
              "      <td>5.451483e-01</td>\n",
              "      <td>4.546553e-01</td>\n",
              "      <td>5.348658e-01</td>\n",
              "      <td>7.066613e-01</td>\n",
              "      <td>7.358165e-01</td>\n",
              "      <td>-2.661357e-01</td>\n",
              "    </tr>\n",
              "    <tr>\n",
              "      <th>max</th>\n",
              "      <td>1.260595e+01</td>\n",
              "      <td>1.254122e+01</td>\n",
              "      <td>2.284661e+00</td>\n",
              "      <td>3.378126e+00</td>\n",
              "      <td>3.557579e+00</td>\n",
              "      <td>4.252966e+00</td>\n",
              "      <td>2.933190e+00</td>\n",
              "      <td>2.354190e+00</td>\n",
              "      <td>2.158928e+00</td>\n",
              "      <td>8.504628e+00</td>\n",
              "    </tr>\n",
              "  </tbody>\n",
              "</table>\n",
              "</div>"
            ],
            "text/plain": [
              "         symmetry_x    symmetry_y  ...     average_b  blue-whitish_veil\n",
              "count  1.200000e+03  1.200000e+03  ...  1.200000e+03       1.200000e+03\n",
              "mean   5.592748e-17 -3.663736e-17  ... -2.038878e-17      -3.888094e-16\n",
              "std    1.000417e+00  1.000417e+00  ...  1.000417e+00       1.000417e+00\n",
              "min   -5.707656e-01 -5.465965e-01  ... -2.430876e+00      -2.768904e-01\n",
              "25%   -4.085860e-01 -3.847439e-01  ... -7.680981e-01      -2.768904e-01\n",
              "50%   -2.270992e-01 -2.152205e-01  ...  1.020603e-01      -2.768904e-01\n",
              "75%    5.729448e-02  5.210478e-02  ...  7.358165e-01      -2.661357e-01\n",
              "max    1.260595e+01  1.254122e+01  ...  2.158928e+00       8.504628e+00\n",
              "\n",
              "[8 rows x 10 columns]"
            ]
          },
          "metadata": {
            "tags": []
          },
          "execution_count": 9
        }
      ]
    },
    {
      "cell_type": "code",
      "metadata": {
        "id": "_ekF-AFbdVkf",
        "colab_type": "code",
        "outputId": "d6919a81-7e75-4fa2-f912-8be90d230b82",
        "colab": {
          "base_uri": "https://localhost:8080/",
          "height": 736
        }
      },
      "source": [
        "# Exploratory Data Analysis\n",
        "# Identfy the KDE shape for all columns (gaussian distribution) after outlier elimination\n",
        "import matplotlib.pyplot as plt\n",
        "normalized.plot(kind='density',\n",
        "                        layout=(10,2),\n",
        "                        subplots=True,\n",
        "                        figsize=(25,25),\n",
        "                        sharex=False)\n",
        "plt.show()"
      ],
      "execution_count": 10,
      "outputs": [
        {
          "output_type": "display_data",
          "data": {
            "image/png": "[encoded data removed]",
            "text/plain": [
              "<Figure size 1800x1800 with 20 Axes>"
            ]
          },
          "metadata": {
            "tags": []
          }
        }
      ]
    },
    {
      "cell_type": "code",
      "metadata": {
        "id": "Gm6FAMTqfDlj",
        "colab_type": "code",
        "outputId": "e65883b0-ec17-4a04-81e6-43df91769ab3",
        "colab": {
          "base_uri": "https://localhost:8080/",
          "height": 297
        }
      },
      "source": [
        "# remove outliers\n",
        "normalized_outliers = normalized[(normalized < 2.698).all(axis=1)\n",
        "               & (normalized > -2.698).all(axis=1)]\n",
        "normalized_outliers.describe()"
      ],
      "execution_count": 11,
      "outputs": [
        {
          "output_type": "execute_result",
          "data": {
            "text/html": [
              "<div>\n",
              "<style scoped>\n",
              "    .dataframe tbody tr th:only-of-type {\n",
              "        vertical-align: middle;\n",
              "    }\n",
              "\n",
              "    .dataframe tbody tr th {\n",
              "        vertical-align: top;\n",
              "    }\n",
              "\n",
              "    .dataframe thead th {\n",
              "        text-align: right;\n",
              "    }\n",
              "</style>\n",
              "<table border=\"1\" class=\"dataframe\">\n",
              "  <thead>\n",
              "    <tr style=\"text-align: right;\">\n",
              "      <th></th>\n",
              "      <th>symmetry_x</th>\n",
              "      <th>symmetry_y</th>\n",
              "      <th>diameter</th>\n",
              "      <th>variance_r</th>\n",
              "      <th>variance_g</th>\n",
              "      <th>variance_b</th>\n",
              "      <th>average_r</th>\n",
              "      <th>average_g</th>\n",
              "      <th>average_b</th>\n",
              "      <th>blue-whitish_veil</th>\n",
              "    </tr>\n",
              "  </thead>\n",
              "  <tbody>\n",
              "    <tr>\n",
              "      <th>count</th>\n",
              "      <td>1098.000000</td>\n",
              "      <td>1098.000000</td>\n",
              "      <td>1098.000000</td>\n",
              "      <td>1098.000000</td>\n",
              "      <td>1098.000000</td>\n",
              "      <td>1098.000000</td>\n",
              "      <td>1098.000000</td>\n",
              "      <td>1098.000000</td>\n",
              "      <td>1098.000000</td>\n",
              "      <td>1098.000000</td>\n",
              "    </tr>\n",
              "    <tr>\n",
              "      <th>mean</th>\n",
              "      <td>-0.093126</td>\n",
              "      <td>-0.091531</td>\n",
              "      <td>-0.082984</td>\n",
              "      <td>-0.154385</td>\n",
              "      <td>-0.149879</td>\n",
              "      <td>-0.124048</td>\n",
              "      <td>-0.111854</td>\n",
              "      <td>-0.030510</td>\n",
              "      <td>-0.005057</td>\n",
              "      <td>-0.149459</td>\n",
              "    </tr>\n",
              "    <tr>\n",
              "      <th>std</th>\n",
              "      <td>0.482116</td>\n",
              "      <td>0.458778</td>\n",
              "      <td>0.963013</td>\n",
              "      <td>0.801477</td>\n",
              "      <td>0.831842</td>\n",
              "      <td>0.865034</td>\n",
              "      <td>0.882801</td>\n",
              "      <td>0.981579</td>\n",
              "      <td>0.990497</td>\n",
              "      <td>0.451526</td>\n",
              "    </tr>\n",
              "    <tr>\n",
              "      <th>min</th>\n",
              "      <td>-0.570766</td>\n",
              "      <td>-0.546597</td>\n",
              "      <td>-1.903188</td>\n",
              "      <td>-1.485108</td>\n",
              "      <td>-1.568914</td>\n",
              "      <td>-1.408415</td>\n",
              "      <td>-2.033856</td>\n",
              "      <td>-2.238090</td>\n",
              "      <td>-2.430876</td>\n",
              "      <td>-0.276890</td>\n",
              "    </tr>\n",
              "    <tr>\n",
              "      <th>25%</th>\n",
              "      <td>-0.419977</td>\n",
              "      <td>-0.397017</td>\n",
              "      <td>-0.856226</td>\n",
              "      <td>-0.800915</td>\n",
              "      <td>-0.782011</td>\n",
              "      <td>-0.792649</td>\n",
              "      <td>-0.783561</td>\n",
              "      <td>-0.676278</td>\n",
              "      <td>-0.734060</td>\n",
              "      <td>-0.276890</td>\n",
              "    </tr>\n",
              "    <tr>\n",
              "      <th>50%</th>\n",
              "      <td>-0.245634</td>\n",
              "      <td>-0.233247</td>\n",
              "      <td>-0.232504</td>\n",
              "      <td>-0.289326</td>\n",
              "      <td>-0.222215</td>\n",
              "      <td>-0.324758</td>\n",
              "      <td>-0.196701</td>\n",
              "      <td>-0.074341</td>\n",
              "      <td>0.114360</td>\n",
              "      <td>-0.276890</td>\n",
              "    </tr>\n",
              "    <tr>\n",
              "      <th>75%</th>\n",
              "      <td>0.029299</td>\n",
              "      <td>0.025641</td>\n",
              "      <td>0.636252</td>\n",
              "      <td>0.321881</td>\n",
              "      <td>0.340505</td>\n",
              "      <td>0.277127</td>\n",
              "      <td>0.446148</td>\n",
              "      <td>0.664930</td>\n",
              "      <td>0.731641</td>\n",
              "      <td>-0.270318</td>\n",
              "    </tr>\n",
              "    <tr>\n",
              "      <th>max</th>\n",
              "      <td>2.214863</td>\n",
              "      <td>2.220240</td>\n",
              "      <td>2.061903</td>\n",
              "      <td>2.402438</td>\n",
              "      <td>2.602899</td>\n",
              "      <td>2.665177</td>\n",
              "      <td>2.529662</td>\n",
              "      <td>2.260584</td>\n",
              "      <td>2.158928</td>\n",
              "      <td>2.527101</td>\n",
              "    </tr>\n",
              "  </tbody>\n",
              "</table>\n",
              "</div>"
            ],
            "text/plain": [
              "        symmetry_x   symmetry_y  ...    average_b  blue-whitish_veil\n",
              "count  1098.000000  1098.000000  ...  1098.000000        1098.000000\n",
              "mean     -0.093126    -0.091531  ...    -0.005057          -0.149459\n",
              "std       0.482116     0.458778  ...     0.990497           0.451526\n",
              "min      -0.570766    -0.546597  ...    -2.430876          -0.276890\n",
              "25%      -0.419977    -0.397017  ...    -0.734060          -0.276890\n",
              "50%      -0.245634    -0.233247  ...     0.114360          -0.276890\n",
              "75%       0.029299     0.025641  ...     0.731641          -0.270318\n",
              "max       2.214863     2.220240  ...     2.158928           2.527101\n",
              "\n",
              "[8 rows x 10 columns]"
            ]
          },
          "metadata": {
            "tags": []
          },
          "execution_count": 11
        }
      ]
    },
    {
      "cell_type": "markdown",
      "metadata": {
        "id": "fHHnrWJaGWhB",
        "colab_type": "text"
      },
      "source": [
        "When numbers are used to represent different options or categories, they are referred to as **categorical values**. Classification focuses on estimating the relationship between the independent variables (x) and the dependent (y), **categorical variable**."
      ]
    },
    {
      "cell_type": "markdown",
      "metadata": {
        "id": "CWB4FW2dNC-E",
        "colab_type": "text"
      },
      "source": [
        "A coluna com a classificação do nevo precisa ser codificiada, visto que, é uma variável categórica que precisa ser convertida para valor númerico."
      ]
    },
    {
      "cell_type": "code",
      "metadata": {
        "id": "aC6xCvxyNUSe",
        "colab_type": "code",
        "outputId": "56ebe659-41fa-4357-aa40-418855b5dc76",
        "colab": {
          "base_uri": "https://localhost:8080/",
          "height": 419
        }
      },
      "source": [
        "col = pd.Categorical(data[\"clinical_diagnosis\"])\n",
        "data_aux[\"clinical_diagnosis\"] = col.codes/2\n",
        "data_aux[data_aux<1]=0\n",
        "data_aux.head(200)"
      ],
      "execution_count": 18,
      "outputs": [
        {
          "output_type": "execute_result",
          "data": {
            "text/html": [
              "<div>\n",
              "<style scoped>\n",
              "    .dataframe tbody tr th:only-of-type {\n",
              "        vertical-align: middle;\n",
              "    }\n",
              "\n",
              "    .dataframe tbody tr th {\n",
              "        vertical-align: top;\n",
              "    }\n",
              "\n",
              "    .dataframe thead th {\n",
              "        text-align: right;\n",
              "    }\n",
              "</style>\n",
              "<table border=\"1\" class=\"dataframe\">\n",
              "  <thead>\n",
              "    <tr style=\"text-align: right;\">\n",
              "      <th></th>\n",
              "      <th>symmetry_x</th>\n",
              "      <th>symmetry_y</th>\n",
              "      <th>diameter</th>\n",
              "      <th>variance_r</th>\n",
              "      <th>variance_g</th>\n",
              "      <th>variance_b</th>\n",
              "      <th>average_r</th>\n",
              "      <th>average_g</th>\n",
              "      <th>average_b</th>\n",
              "      <th>blue-whitish_veil</th>\n",
              "      <th>clinical_diagnosis</th>\n",
              "    </tr>\n",
              "  </thead>\n",
              "  <tbody>\n",
              "    <tr>\n",
              "      <th>0</th>\n",
              "      <td>806</td>\n",
              "      <td>456</td>\n",
              "      <td>226</td>\n",
              "      <td>297.628</td>\n",
              "      <td>615.890</td>\n",
              "      <td>1218.480</td>\n",
              "      <td>55.4818</td>\n",
              "      <td>84.9337</td>\n",
              "      <td>145.976</td>\n",
              "      <td>4</td>\n",
              "      <td>0.0</td>\n",
              "    </tr>\n",
              "    <tr>\n",
              "      <th>1</th>\n",
              "      <td>45</td>\n",
              "      <td>159</td>\n",
              "      <td>144</td>\n",
              "      <td>355.300</td>\n",
              "      <td>406.200</td>\n",
              "      <td>545.299</td>\n",
              "      <td>94.5793</td>\n",
              "      <td>98.8138</td>\n",
              "      <td>139.898</td>\n",
              "      <td>146</td>\n",
              "      <td>0.0</td>\n",
              "    </tr>\n",
              "    <tr>\n",
              "      <th>2</th>\n",
              "      <td>998</td>\n",
              "      <td>670</td>\n",
              "      <td>184</td>\n",
              "      <td>478.496</td>\n",
              "      <td>638.963</td>\n",
              "      <td>1189.560</td>\n",
              "      <td>84.0958</td>\n",
              "      <td>90.7283</td>\n",
              "      <td>134.997</td>\n",
              "      <td>35</td>\n",
              "      <td>0.0</td>\n",
              "    </tr>\n",
              "    <tr>\n",
              "      <th>3</th>\n",
              "      <td>884</td>\n",
              "      <td>934</td>\n",
              "      <td>192</td>\n",
              "      <td>388.811</td>\n",
              "      <td>307.433</td>\n",
              "      <td>556.579</td>\n",
              "      <td>94.9663</td>\n",
              "      <td>123.3360</td>\n",
              "      <td>179.045</td>\n",
              "      <td>321</td>\n",
              "      <td>0.0</td>\n",
              "    </tr>\n",
              "    <tr>\n",
              "      <th>4</th>\n",
              "      <td>377</td>\n",
              "      <td>93</td>\n",
              "      <td>148</td>\n",
              "      <td>975.527</td>\n",
              "      <td>644.466</td>\n",
              "      <td>485.322</td>\n",
              "      <td>111.4910</td>\n",
              "      <td>148.6690</td>\n",
              "      <td>201.290</td>\n",
              "      <td>0</td>\n",
              "      <td>0.0</td>\n",
              "    </tr>\n",
              "    <tr>\n",
              "      <th>...</th>\n",
              "      <td>...</td>\n",
              "      <td>...</td>\n",
              "      <td>...</td>\n",
              "      <td>...</td>\n",
              "      <td>...</td>\n",
              "      <td>...</td>\n",
              "      <td>...</td>\n",
              "      <td>...</td>\n",
              "      <td>...</td>\n",
              "      <td>...</td>\n",
              "      <td>...</td>\n",
              "    </tr>\n",
              "    <tr>\n",
              "      <th>195</th>\n",
              "      <td>752</td>\n",
              "      <td>524</td>\n",
              "      <td>196</td>\n",
              "      <td>435.056</td>\n",
              "      <td>1106.540</td>\n",
              "      <td>1797.290</td>\n",
              "      <td>84.3773</td>\n",
              "      <td>127.1500</td>\n",
              "      <td>203.249</td>\n",
              "      <td>0</td>\n",
              "      <td>1.0</td>\n",
              "    </tr>\n",
              "    <tr>\n",
              "      <th>196</th>\n",
              "      <td>567</td>\n",
              "      <td>457</td>\n",
              "      <td>212</td>\n",
              "      <td>587.530</td>\n",
              "      <td>586.523</td>\n",
              "      <td>695.742</td>\n",
              "      <td>99.4564</td>\n",
              "      <td>103.2560</td>\n",
              "      <td>154.025</td>\n",
              "      <td>205</td>\n",
              "      <td>1.0</td>\n",
              "    </tr>\n",
              "    <tr>\n",
              "      <th>197</th>\n",
              "      <td>251</td>\n",
              "      <td>1365</td>\n",
              "      <td>408</td>\n",
              "      <td>1335.450</td>\n",
              "      <td>1047.320</td>\n",
              "      <td>1400.040</td>\n",
              "      <td>146.9520</td>\n",
              "      <td>137.7620</td>\n",
              "      <td>201.839</td>\n",
              "      <td>2463</td>\n",
              "      <td>1.0</td>\n",
              "    </tr>\n",
              "    <tr>\n",
              "      <th>198</th>\n",
              "      <td>672</td>\n",
              "      <td>1086</td>\n",
              "      <td>386</td>\n",
              "      <td>739.594</td>\n",
              "      <td>1273.700</td>\n",
              "      <td>1416.680</td>\n",
              "      <td>92.2192</td>\n",
              "      <td>131.1170</td>\n",
              "      <td>197.269</td>\n",
              "      <td>0</td>\n",
              "      <td>0.0</td>\n",
              "    </tr>\n",
              "    <tr>\n",
              "      <th>199</th>\n",
              "      <td>422</td>\n",
              "      <td>902</td>\n",
              "      <td>338</td>\n",
              "      <td>1502.950</td>\n",
              "      <td>1469.030</td>\n",
              "      <td>1777.990</td>\n",
              "      <td>111.9630</td>\n",
              "      <td>111.5970</td>\n",
              "      <td>163.434</td>\n",
              "      <td>1435</td>\n",
              "      <td>1.0</td>\n",
              "    </tr>\n",
              "  </tbody>\n",
              "</table>\n",
              "<p>200 rows × 11 columns</p>\n",
              "</div>"
            ],
            "text/plain": [
              "     symmetry_x  symmetry_y  ...  blue-whitish_veil  clinical_diagnosis\n",
              "0           806         456  ...                  4                 0.0\n",
              "1            45         159  ...                146                 0.0\n",
              "2           998         670  ...                 35                 0.0\n",
              "3           884         934  ...                321                 0.0\n",
              "4           377          93  ...                  0                 0.0\n",
              "..          ...         ...  ...                ...                 ...\n",
              "195         752         524  ...                  0                 1.0\n",
              "196         567         457  ...                205                 1.0\n",
              "197         251        1365  ...               2463                 1.0\n",
              "198         672        1086  ...                  0                 0.0\n",
              "199         422         902  ...               1435                 1.0\n",
              "\n",
              "[200 rows x 11 columns]"
            ]
          },
          "metadata": {
            "tags": []
          },
          "execution_count": 18
        }
      ]
    },
    {
      "cell_type": "markdown",
      "metadata": {
        "id": "ftQ4JncobRqc",
        "colab_type": "text"
      },
      "source": [
        "Three beneits of performing feature selection\n",
        "before modeling your data are:\n",
        "\n",
        "- **Reduces Overfitting**: Less redundant data means less opportunity to make decisions based on noise.\n",
        "- **Improves Accuracy**: Less misleading data means modeling accuracy improves.\n",
        "- **Reduces Training Time**: Less data means that algorithms train faster."
      ]
    },
    {
      "cell_type": "markdown",
      "metadata": {
        "id": "sEv63CUdE5yP",
        "colab_type": "text"
      },
      "source": [
        "## 1.4 Train Model"
      ]
    },
    {
      "cell_type": "markdown",
      "metadata": {
        "id": "Sp8pxm5yGS0u",
        "colab_type": "text"
      },
      "source": [
        "**Load Libraries**"
      ]
    },
    {
      "cell_type": "code",
      "metadata": {
        "id": "kfJyQ6Sv8Uzc",
        "colab_type": "code",
        "colab": {}
      },
      "source": [
        "import pandas as pd\n",
        "import matplotlib.pyplot as plt\n",
        "from sklearn.metrics import make_scorer\n",
        "from sklearn.metrics import accuracy_score\n",
        "from sklearn.model_selection import train_test_split\n",
        "from sklearn.model_selection import KFold\n",
        "from sklearn.model_selection import cross_val_score\n",
        "from sklearn.model_selection import GridSearchCV\n",
        "from sklearn.metrics import classification_report\n",
        "from sklearn.metrics import confusion_matrix\n",
        "from xgboost import XGBClassifier\n",
        "import time\n",
        "from sklearn.pipeline import Pipeline\n",
        "import xgboost as xgb\n",
        "from sklearn.ensemble import RandomForestClassifier\n",
        "from google.colab import files\n",
        "from sklearn.model_selection import StratifiedKFold\n",
        "from sklearn.linear_model import LogisticRegression\n",
        "import numpy as np\n",
        "from sklearn.datasets import load_digits\n",
        "from sklearn.neural_network import MLPClassifier"
      ],
      "execution_count": 0,
      "outputs": []
    },
    {
      "cell_type": "markdown",
      "metadata": {
        "id": "KARIu9Kw8V4K",
        "colab_type": "text"
      },
      "source": [
        "**Split data into train and test**"
      ]
    },
    {
      "cell_type": "code",
      "metadata": {
        "id": "haeEEaJl7ZZU",
        "colab_type": "code",
        "colab": {}
      },
      "source": [
        "# Split dataset into train and test\n",
        "X_train, X_test, y_train, y_test = train_test_split(data_aux.drop('clinical_diagnosis', axis=1), \n",
        "                                                    data_aux.clinical_diagnosis,\n",
        "                                                    test_size=0.20, \n",
        "                                                    random_state=42)"
      ],
      "execution_count": 0,
      "outputs": []
    },
    {
      "cell_type": "code",
      "metadata": {
        "id": "_AE85jFZ9PWV",
        "colab_type": "code",
        "colab": {}
      },
      "source": [
        "# global variables\n",
        "seed = 42\n",
        "num_folds = 10\n",
        "scoring = {'Accuracy': make_scorer(accuracy_score)}"
      ],
      "execution_count": 0,
      "outputs": []
    },
    {
      "cell_type": "markdown",
      "metadata": {
        "id": "RQEKpWP08joz",
        "colab_type": "text"
      },
      "source": [
        "**Training using a Pipeline and Gridsearch**"
      ]
    },
    {
      "cell_type": "code",
      "metadata": {
        "id": "WYYnhjAl7Tg-",
        "colab_type": "code",
        "colab": {
          "base_uri": "https://localhost:8080/",
          "height": 34
        },
        "outputId": "cd4cfcb7-331c-4e15-a173-8282d540587c"
      },
      "source": [
        "# A single Pipeline\n",
        "pipe = Pipeline(steps = [(\"clf\",MLPClassifier())])\n",
        "\n",
        "# create a dictionary with the hyperparameters\n",
        "search_space = [\n",
        "                {\"clf\":[MLPClassifier()],\n",
        "                 \"clf__hidden_layer_sizes\": [(120,240),(120,480,120),(120,240,480,240,120)],\n",
        "                 \"clf__activation\": [\"logistic\",\"relu\"],\n",
        "                 \"clf__solver\": [\"sgd\"],\n",
        "                 \"clf__max_iter\": [50000],\n",
        "                 \"clf__early_stopping\":[True],\n",
        "                 \"clf__n_iter_no_change\":[20],\n",
        "                 \"clf__validation_fraction\":[0.20], \n",
        "                 }\n",
        "                ]\n",
        "\n",
        "# create grid search\n",
        "kfold = StratifiedKFold(n_splits=num_folds,random_state=seed)\n",
        "\n",
        "# return_train_score=True\n",
        "# official documentation: \"computing the scores on the training set can be\n",
        "# computationally expensive and is not strictly required to\n",
        "# select the parameters that yield the best generalization performance\".\n",
        "grid = GridSearchCV(estimator=pipe, \n",
        "                    param_grid=search_space,\n",
        "                    cv=kfold,\n",
        "                    scoring=scoring,\n",
        "                    return_train_score=True,\n",
        "                    n_jobs=-1,\n",
        "                    refit=\"Accuracy\")\n",
        "\n",
        "tmp = time.time()\n",
        "\n",
        "# fit grid search\n",
        "best_model = grid.fit(X_train,y_train)\n",
        "\n",
        "print(\"CPU Training Time: %s seconds\" % (str(time.time() - tmp)))"
      ],
      "execution_count": 31,
      "outputs": [
        {
          "output_type": "stream",
          "text": [
            "CPU Training Time: 93.45499181747437 seconds\n"
          ],
          "name": "stdout"
        }
      ]
    },
    {
      "cell_type": "code",
      "metadata": {
        "id": "Jx8OFC6a9VLH",
        "colab_type": "code",
        "colab": {
          "base_uri": "https://localhost:8080/",
          "height": 173
        },
        "outputId": "6660570f-c6be-494a-b6fe-d01185925086"
      },
      "source": [
        "print(\"Best: %f using %s\" % (best_model.best_score_,best_model.best_params_))"
      ],
      "execution_count": 32,
      "outputs": [
        {
          "output_type": "stream",
          "text": [
            "Best: 0.830208 using {'clf': MLPClassifier(activation='relu', alpha=0.0001, batch_size='auto', beta_1=0.9,\n",
            "              beta_2=0.999, early_stopping=True, epsilon=1e-08,\n",
            "              hidden_layer_sizes=(120, 240, 480, 240, 120),\n",
            "              learning_rate='constant', learning_rate_init=0.001,\n",
            "              max_iter=50000, momentum=0.9, n_iter_no_change=20,\n",
            "              nesterovs_momentum=True, power_t=0.5, random_state=None,\n",
            "              shuffle=True, solver='sgd', tol=0.0001, validation_fraction=0.2,\n",
            "              verbose=False, warm_start=False), 'clf__activation': 'relu', 'clf__early_stopping': True, 'clf__hidden_layer_sizes': (120, 240, 480, 240, 120), 'clf__max_iter': 50000, 'clf__n_iter_no_change': 20, 'clf__solver': 'sgd', 'clf__validation_fraction': 0.2}\n"
          ],
          "name": "stdout"
        }
      ]
    },
    {
      "cell_type": "code",
      "metadata": {
        "id": "aqwFzJNx9YiC",
        "colab_type": "code",
        "colab": {}
      },
      "source": [
        "result = pd.DataFrame(best_model.cv_results_)"
      ],
      "execution_count": 0,
      "outputs": []
    },
    {
      "cell_type": "code",
      "metadata": {
        "id": "OQhEyA-x9ZPV",
        "colab_type": "code",
        "colab": {
          "base_uri": "https://localhost:8080/",
          "height": 235
        },
        "outputId": "86344f7f-88ea-4761-b4e8-555447cbe74b"
      },
      "source": [
        "result_acc = result[['mean_train_Accuracy', 'std_train_Accuracy',\n",
        "                     'mean_test_Accuracy', 'std_test_Accuracy','rank_test_Accuracy',\"param_clf__hidden_layer_sizes\"]].copy()\n",
        "result_acc[\"std_ratio\"] = result_acc.std_test_Accuracy/result_acc.std_train_Accuracy\n",
        "result_acc.sort_values(by=\"rank_test_Accuracy\",ascending=True)"
      ],
      "execution_count": 34,
      "outputs": [
        {
          "output_type": "execute_result",
          "data": {
            "text/html": [
              "<div>\n",
              "<style scoped>\n",
              "    .dataframe tbody tr th:only-of-type {\n",
              "        vertical-align: middle;\n",
              "    }\n",
              "\n",
              "    .dataframe tbody tr th {\n",
              "        vertical-align: top;\n",
              "    }\n",
              "\n",
              "    .dataframe thead th {\n",
              "        text-align: right;\n",
              "    }\n",
              "</style>\n",
              "<table border=\"1\" class=\"dataframe\">\n",
              "  <thead>\n",
              "    <tr style=\"text-align: right;\">\n",
              "      <th></th>\n",
              "      <th>mean_train_Accuracy</th>\n",
              "      <th>std_train_Accuracy</th>\n",
              "      <th>mean_test_Accuracy</th>\n",
              "      <th>std_test_Accuracy</th>\n",
              "      <th>rank_test_Accuracy</th>\n",
              "      <th>param_clf__hidden_layer_sizes</th>\n",
              "      <th>std_ratio</th>\n",
              "    </tr>\n",
              "  </thead>\n",
              "  <tbody>\n",
              "    <tr>\n",
              "      <th>5</th>\n",
              "      <td>0.866904</td>\n",
              "      <td>0.028894</td>\n",
              "      <td>0.830208</td>\n",
              "      <td>0.017977</td>\n",
              "      <td>1</td>\n",
              "      <td>(120, 240, 480, 240, 120)</td>\n",
              "      <td>0.622167</td>\n",
              "    </tr>\n",
              "    <tr>\n",
              "      <th>0</th>\n",
              "      <td>0.797917</td>\n",
              "      <td>0.000386</td>\n",
              "      <td>0.797917</td>\n",
              "      <td>0.003463</td>\n",
              "      <td>2</td>\n",
              "      <td>(120, 240)</td>\n",
              "      <td>8.975725</td>\n",
              "    </tr>\n",
              "    <tr>\n",
              "      <th>1</th>\n",
              "      <td>0.797917</td>\n",
              "      <td>0.000386</td>\n",
              "      <td>0.797917</td>\n",
              "      <td>0.003463</td>\n",
              "      <td>2</td>\n",
              "      <td>(120, 480, 120)</td>\n",
              "      <td>8.975725</td>\n",
              "    </tr>\n",
              "    <tr>\n",
              "      <th>2</th>\n",
              "      <td>0.797917</td>\n",
              "      <td>0.000386</td>\n",
              "      <td>0.797917</td>\n",
              "      <td>0.003463</td>\n",
              "      <td>2</td>\n",
              "      <td>(120, 240, 480, 240, 120)</td>\n",
              "      <td>8.975725</td>\n",
              "    </tr>\n",
              "    <tr>\n",
              "      <th>3</th>\n",
              "      <td>0.798033</td>\n",
              "      <td>0.004370</td>\n",
              "      <td>0.796875</td>\n",
              "      <td>0.012531</td>\n",
              "      <td>5</td>\n",
              "      <td>(120, 240)</td>\n",
              "      <td>2.867507</td>\n",
              "    </tr>\n",
              "    <tr>\n",
              "      <th>4</th>\n",
              "      <td>0.818287</td>\n",
              "      <td>0.019356</td>\n",
              "      <td>0.795833</td>\n",
              "      <td>0.016715</td>\n",
              "      <td>6</td>\n",
              "      <td>(120, 480, 120)</td>\n",
              "      <td>0.863538</td>\n",
              "    </tr>\n",
              "  </tbody>\n",
              "</table>\n",
              "</div>"
            ],
            "text/plain": [
              "   mean_train_Accuracy  ...  std_ratio\n",
              "5             0.866904  ...   0.622167\n",
              "0             0.797917  ...   8.975725\n",
              "1             0.797917  ...   8.975725\n",
              "2             0.797917  ...   8.975725\n",
              "3             0.798033  ...   2.867507\n",
              "4             0.818287  ...   0.863538\n",
              "\n",
              "[6 rows x 7 columns]"
            ]
          },
          "metadata": {
            "tags": []
          },
          "execution_count": 34
        }
      ]
    },
    {
      "cell_type": "markdown",
      "metadata": {
        "id": "oB3nGFyP8Iz-",
        "colab_type": "text"
      },
      "source": [
        "## 1.5 Test Data"
      ]
    },
    {
      "cell_type": "markdown",
      "metadata": {
        "id": "d-6Qw3D0aDdP",
        "colab_type": "text"
      },
      "source": [
        "**Holdout validation** is actually a specific example of a larger class of validation techniques called **k-fold cross-validation**. While holdout validation is better than train/test validation because the model isn't repeatedly biased towards a specific subset of the data, both models that are trained only use half the available data. K-fold cross validation, on the other hand, takes advantage of a larger proportion of the data during training while still rotating through different subsets of the data to avoid the issues of train/test validation."
      ]
    },
    {
      "cell_type": "code",
      "metadata": {
        "id": "wj8E3met9d2v",
        "colab_type": "code",
        "colab": {
          "base_uri": "https://localhost:8080/",
          "height": 34
        },
        "outputId": "9fd78a25-d8dc-40ea-9e89-250a3caca26b"
      },
      "source": [
        "# best model\n",
        "predict_first = best_model.best_estimator_.predict(X_test)\n",
        "print(accuracy_score(y_test, predict_first))"
      ],
      "execution_count": 35,
      "outputs": [
        {
          "output_type": "stream",
          "text": [
            "0.8208333333333333\n"
          ],
          "name": "stdout"
        }
      ]
    }
  ]
}