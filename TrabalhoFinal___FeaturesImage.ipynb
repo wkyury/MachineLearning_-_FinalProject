{
  "nbformat": 4,
  "nbformat_minor": 0,
  "metadata": {
    "kernelspec": {
      "display_name": "Python 3",
      "language": "python",
      "name": "python3"
    },
    "language_info": {
      "codemirror_mode": {
        "name": "ipython",
        "version": 3
      },
      "file_extension": ".py",
      "mimetype": "text/x-python",
      "name": "python",
      "nbconvert_exporter": "python",
      "pygments_lexer": "ipython3",
      "version": "3.6.5"
    },
    "colab": {
      "name": "TrabalhoFinal_-_FeaturesImage.ipynb",
      "provenance": [],
      "collapsed_sections": [
        "o2YGOHyKAfPs",
        "so_jJh1OAfPv",
        "3XmI0UjFAfP0",
        "u0_K5t9SAfP9",
        "2QMgjUjNAfQC",
        "L4l_qnk_AfQv",
        "_ZNk1DGyAfRP",
        "cq_wFdSgAfRQ",
        "c9ugo2ngAfRS",
        "BcuHO9axAfRV",
        "LzHBV5pHAfS1",
        "3cqm_dI5AfS4",
        "lMeN3iW5AfTF",
        "08QkGEjXAfTR",
        "zGIuGKiSAfTe",
        "8DSGio3DAfV-"
      ],
      "toc_visible": true
    }
  },
  "cells": [
    {
      "cell_type": "markdown",
      "metadata": {
        "toc-hr-collapsed": true,
        "id": "cduaJyP2AfTo",
        "colab_type": "text"
      },
      "source": [
        "# Detecção de câncer de pele utilizando imagens "
      ]
    },
    {
      "cell_type": "markdown",
      "metadata": {
        "id": "UNZInlsGiNvB",
        "colab_type": "text"
      },
      "source": [
        "**Load Libraries**"
      ]
    },
    {
      "cell_type": "code",
      "metadata": {
        "id": "gNzd3IVRVipx",
        "colab_type": "code",
        "colab": {}
      },
      "source": [
        "import pandas as pd\n",
        "import matplotlib.pyplot as plt\n",
        "from sklearn.metrics import make_scorer\n",
        "from sklearn.metrics import accuracy_score\n",
        "from sklearn.model_selection import train_test_split\n",
        "from sklearn.model_selection import KFold\n",
        "from sklearn.model_selection import cross_val_score\n",
        "from sklearn.model_selection import GridSearchCV\n",
        "from sklearn.metrics import classification_report\n",
        "from sklearn.metrics import confusion_matrix\n",
        "from xgboost import XGBClassifier\n",
        "import time\n",
        "from sklearn.pipeline import Pipeline\n",
        "import xgboost as xgb\n",
        "from sklearn.ensemble import RandomForestClassifier\n",
        "from google.colab import files\n",
        "from sklearn.model_selection import StratifiedKFold\n",
        "from sklearn.linear_model import LogisticRegression\n",
        "import numpy as np\n",
        "from sklearn.datasets import load_digits\n",
        "from sklearn.neural_network import MLPClassifier"
      ],
      "execution_count": 0,
      "outputs": []
    },
    {
      "cell_type": "markdown",
      "metadata": {
        "id": "BFIoCtuFjeZF",
        "colab_type": "text"
      },
      "source": [
        "**Load Data**"
      ]
    },
    {
      "cell_type": "code",
      "metadata": {
        "id": "yKXlo_oaPNG2",
        "colab_type": "code",
        "colab": {}
      },
      "source": [
        "# Put your code here\n",
        "\n",
        "from sklearn.datasets import load_digits\n",
        "import pandas as pd\n",
        "import matplotlib.pyplot as plt\n",
        "\n",
        "dataSkin = pd.read_csv(\"DadosImg.txt\", sep=' ')\n",
        "label = pd.read_csv(\"label.txt\")\n",
        "\n",
        "dataSkin = dataSkin.drop('Unnamed: 8550', axis=1)\n",
        "\n",
        "col = pd.Categorical(label[\"clinical_diagnosis\"])\n",
        "label[\"clinical_diagnosis\"] = col.codes\n",
        "#label = label-1\n",
        "label = label/2\n",
        "\n",
        "label[label<1]  = 0"
      ],
      "execution_count": 0,
      "outputs": []
    },
    {
      "cell_type": "code",
      "metadata": {
        "id": "YXHNpYozZ5rB",
        "colab_type": "code",
        "colab": {}
      },
      "source": [
        "label.head(200)"
      ],
      "execution_count": 0,
      "outputs": []
    },
    {
      "cell_type": "markdown",
      "metadata": {
        "id": "vRRq_OVy0mKE",
        "colab_type": "text"
      },
      "source": [
        "**Split data into train and test**"
      ]
    },
    {
      "cell_type": "code",
      "metadata": {
        "id": "RSq1r03Xja0b",
        "colab_type": "code",
        "colab": {}
      },
      "source": [
        "# Split dataset into train and test\n",
        "X_train, X_test, y_train, y_test = train_test_split(dataSkin, \n",
        "                                                    label,\n",
        "                                                    test_size=0.20, \n",
        "                                                    random_state=42)"
      ],
      "execution_count": 0,
      "outputs": []
    },
    {
      "cell_type": "code",
      "metadata": {
        "id": "D464FplHqWzb",
        "colab_type": "code",
        "colab": {}
      },
      "source": [
        "# global variables\n",
        "seed = 42\n",
        "num_folds = 10\n",
        "scoring = {'Accuracy': make_scorer(accuracy_score)}"
      ],
      "execution_count": 0,
      "outputs": []
    },
    {
      "cell_type": "markdown",
      "metadata": {
        "id": "DRwN_-jJ0fFA",
        "colab_type": "text"
      },
      "source": [
        "**Training using a Pipeline and Gridsearch**"
      ]
    },
    {
      "cell_type": "code",
      "metadata": {
        "id": "uwJ9B1ItVFLz",
        "colab_type": "code",
        "colab": {}
      },
      "source": [
        "# A single Pipeline\n",
        "pipe = Pipeline(steps = [(\"clf\",MLPClassifier())])\n",
        "\n",
        "# create a dictionary with the hyperparameters\n",
        "search_space = [\n",
        "                {\"clf\":[MLPClassifier()],\n",
        "                 \"clf__hidden_layer_sizes\": [(120,240),(120,480,120),(480,800,480)],\n",
        "                 \"clf__activation\": [\"logistic\",\"relu\"],\n",
        "                 \"clf__solver\": [\"sgd\"],\n",
        "                 \"clf__max_iter\": [50000],\n",
        "                 \"clf__early_stopping\":[True],\n",
        "                 \"clf__n_iter_no_change\":[20],\n",
        "                 \"clf__validation_fraction\":[0.20], \n",
        "                 }\n",
        "                ]\n",
        "\n",
        "# create grid search\n",
        "kfold = StratifiedKFold(n_splits=num_folds,random_state=seed)\n",
        "\n",
        "# return_train_score=True\n",
        "# official documentation: \"computing the scores on the training set can be\n",
        "# computationally expensive and is not strictly required to\n",
        "# select the parameters that yield the best generalization performance\".\n",
        "grid = GridSearchCV(estimator=pipe, \n",
        "                    param_grid=search_space,\n",
        "                    cv=kfold,\n",
        "                    scoring=scoring,\n",
        "                    return_train_score=True,\n",
        "                    n_jobs=-1,\n",
        "                    refit=\"Accuracy\")\n",
        "\n",
        "tmp = time.time()\n",
        "\n",
        "# fit grid search\n",
        "best_model = grid.fit(X_train,y_train)\n",
        "\n",
        "print(\"CPU Training Time: %s seconds\" % (str(time.time() - tmp)))"
      ],
      "execution_count": 0,
      "outputs": []
    },
    {
      "cell_type": "code",
      "metadata": {
        "id": "FD8HPCmUqowb",
        "colab_type": "code",
        "colab": {}
      },
      "source": [
        "print(\"Best: %f using %s\" % (best_model.best_score_,best_model.best_params_))"
      ],
      "execution_count": 0,
      "outputs": []
    },
    {
      "cell_type": "code",
      "metadata": {
        "id": "ZK8ro8PWrLct",
        "colab_type": "code",
        "colab": {}
      },
      "source": [
        "result = pd.DataFrame(best_model.cv_results_)"
      ],
      "execution_count": 0,
      "outputs": []
    },
    {
      "cell_type": "code",
      "metadata": {
        "id": "gas9Ei0Hzpcs",
        "colab_type": "code",
        "colab": {}
      },
      "source": [
        "result_acc = result[['mean_train_Accuracy', 'std_train_Accuracy',\n",
        "                     'mean_test_Accuracy', 'std_test_Accuracy','rank_test_Accuracy',\"param_clf__hidden_layer_sizes\"]].copy()\n",
        "result_acc[\"std_ratio\"] = result_acc.std_test_Accuracy/result_acc.std_train_Accuracy\n",
        "result_acc.sort_values(by=\"rank_test_Accuracy\",ascending=True)"
      ],
      "execution_count": 0,
      "outputs": []
    },
    {
      "cell_type": "code",
      "metadata": {
        "id": "KOvqgPWTxRSK",
        "colab_type": "code",
        "colab": {}
      },
      "source": [
        "# best model\n",
        "predict = best_model.best_estimator_.predict(X_test)\n",
        "print(accuracy_score(y_test, predict))"
      ],
      "execution_count": 0,
      "outputs": []
    }
  ]
}