{
  "nbformat": 4,
  "nbformat_minor": 0,
  "metadata": {
    "kernelspec": {
      "display_name": "Python 3",
      "language": "python",
      "name": "python3"
    },
    "language_info": {
      "codemirror_mode": {
        "name": "ipython",
        "version": 3
      },
      "file_extension": ".py",
      "mimetype": "text/x-python",
      "name": "python",
      "nbconvert_exporter": "python",
      "pygments_lexer": "ipython3",
      "version": "3.6.5"
    },
    "colab": {
      "name": "TrabalhoFinal_-_FeaturesImage.ipynb",
      "provenance": [],
      "collapsed_sections": [
        "o2YGOHyKAfPs",
        "so_jJh1OAfPv",
        "3XmI0UjFAfP0",
        "u0_K5t9SAfP9",
        "2QMgjUjNAfQC",
        "L4l_qnk_AfQv",
        "_ZNk1DGyAfRP",
        "cq_wFdSgAfRQ",
        "c9ugo2ngAfRS",
        "BcuHO9axAfRV",
        "LzHBV5pHAfS1",
        "3cqm_dI5AfS4",
        "lMeN3iW5AfTF",
        "08QkGEjXAfTR",
        "zGIuGKiSAfTe",
        "8DSGio3DAfV-"
      ],
      "toc_visible": true
    }
  },
  "cells": [
    {
      "cell_type": "markdown",
      "metadata": {
        "toc-hr-collapsed": true,
        "id": "cduaJyP2AfTo",
        "colab_type": "text"
      },
      "source": [
        "# Detecção de câncer de pele utilizando imagens "
      ]
    },
    {
      "cell_type": "markdown",
      "metadata": {
        "id": "UNZInlsGiNvB",
        "colab_type": "text"
      },
      "source": [
        "**Load Libraries**"
      ]
    },
    {
      "cell_type": "code",
      "metadata": {
        "id": "gNzd3IVRVipx",
        "colab_type": "code",
        "colab": {}
      },
      "source": [
        "import pandas as pd\n",
        "import matplotlib.pyplot as plt\n",
        "from sklearn.metrics import make_scorer\n",
        "from sklearn.metrics import accuracy_score\n",
        "from sklearn.model_selection import train_test_split\n",
        "from sklearn.model_selection import KFold\n",
        "from sklearn.model_selection import cross_val_score\n",
        "from sklearn.model_selection import GridSearchCV\n",
        "from sklearn.metrics import classification_report\n",
        "from sklearn.metrics import confusion_matrix\n",
        "from xgboost import XGBClassifier\n",
        "import time\n",
        "from sklearn.pipeline import Pipeline\n",
        "import xgboost as xgb\n",
        "from sklearn.ensemble import RandomForestClassifier\n",
        "from google.colab import files\n",
        "from sklearn.model_selection import StratifiedKFold\n",
        "from sklearn.linear_model import LogisticRegression\n",
        "import numpy as np\n",
        "from sklearn.datasets import load_digits\n",
        "from sklearn.neural_network import MLPClassifier"
      ],
      "execution_count": 0,
      "outputs": []
    },
    {
      "cell_type": "markdown",
      "metadata": {
        "id": "BFIoCtuFjeZF",
        "colab_type": "text"
      },
      "source": [
        "**Load Data**"
      ]
    },
    {
      "cell_type": "code",
      "metadata": {
        "id": "yKXlo_oaPNG2",
        "colab_type": "code",
        "colab": {}
      },
      "source": [
        "# Put your code here\n",
        "\n",
        "from sklearn.datasets import load_digits\n",
        "import pandas as pd\n",
        "import matplotlib.pyplot as plt\n",
        "\n",
        "dataSkin = pd.read_csv(\"DadosImg.txt\", sep=' ')\n",
        "label = pd.read_csv(\"label.txt\")\n",
        "\n",
        "dataSkin = dataSkin.drop('Unnamed: 8550', axis=1)\n",
        "\n",
        "col = pd.Categorical(label[\"clinical_diagnosis\"])\n",
        "label[\"clinical_diagnosis\"] = col.codes\n",
        "#label = label-1\n",
        "label = label/2\n",
        "\n",
        "label[label<1]  = 0"
      ],
      "execution_count": 0,
      "outputs": []
    },
    {
      "cell_type": "code",
      "metadata": {
        "id": "YXHNpYozZ5rB",
        "colab_type": "code",
        "outputId": "3a9ab251-10c2-4d73-b23b-a693067e116c",
        "colab": {
          "base_uri": "https://localhost:8080/",
          "height": 419
        }
      },
      "source": [
        "label.head(200)"
      ],
      "execution_count": 6,
      "outputs": [
        {
          "output_type": "execute_result",
          "data": {
            "text/html": [
              "<div>\n",
              "<style scoped>\n",
              "    .dataframe tbody tr th:only-of-type {\n",
              "        vertical-align: middle;\n",
              "    }\n",
              "\n",
              "    .dataframe tbody tr th {\n",
              "        vertical-align: top;\n",
              "    }\n",
              "\n",
              "    .dataframe thead th {\n",
              "        text-align: right;\n",
              "    }\n",
              "</style>\n",
              "<table border=\"1\" class=\"dataframe\">\n",
              "  <thead>\n",
              "    <tr style=\"text-align: right;\">\n",
              "      <th></th>\n",
              "      <th>clinical_diagnosis</th>\n",
              "    </tr>\n",
              "  </thead>\n",
              "  <tbody>\n",
              "    <tr>\n",
              "      <th>0</th>\n",
              "      <td>0.0</td>\n",
              "    </tr>\n",
              "    <tr>\n",
              "      <th>1</th>\n",
              "      <td>0.0</td>\n",
              "    </tr>\n",
              "    <tr>\n",
              "      <th>2</th>\n",
              "      <td>0.0</td>\n",
              "    </tr>\n",
              "    <tr>\n",
              "      <th>3</th>\n",
              "      <td>0.0</td>\n",
              "    </tr>\n",
              "    <tr>\n",
              "      <th>4</th>\n",
              "      <td>0.0</td>\n",
              "    </tr>\n",
              "    <tr>\n",
              "      <th>...</th>\n",
              "      <td>...</td>\n",
              "    </tr>\n",
              "    <tr>\n",
              "      <th>195</th>\n",
              "      <td>1.0</td>\n",
              "    </tr>\n",
              "    <tr>\n",
              "      <th>196</th>\n",
              "      <td>1.0</td>\n",
              "    </tr>\n",
              "    <tr>\n",
              "      <th>197</th>\n",
              "      <td>1.0</td>\n",
              "    </tr>\n",
              "    <tr>\n",
              "      <th>198</th>\n",
              "      <td>0.0</td>\n",
              "    </tr>\n",
              "    <tr>\n",
              "      <th>199</th>\n",
              "      <td>1.0</td>\n",
              "    </tr>\n",
              "  </tbody>\n",
              "</table>\n",
              "<p>200 rows × 1 columns</p>\n",
              "</div>"
            ],
            "text/plain": [
              "     clinical_diagnosis\n",
              "0                   0.0\n",
              "1                   0.0\n",
              "2                   0.0\n",
              "3                   0.0\n",
              "4                   0.0\n",
              "..                  ...\n",
              "195                 1.0\n",
              "196                 1.0\n",
              "197                 1.0\n",
              "198                 0.0\n",
              "199                 1.0\n",
              "\n",
              "[200 rows x 1 columns]"
            ]
          },
          "metadata": {
            "tags": []
          },
          "execution_count": 6
        }
      ]
    },
    {
      "cell_type": "markdown",
      "metadata": {
        "id": "vRRq_OVy0mKE",
        "colab_type": "text"
      },
      "source": [
        "**Split data into train and test**"
      ]
    },
    {
      "cell_type": "code",
      "metadata": {
        "id": "RSq1r03Xja0b",
        "colab_type": "code",
        "colab": {}
      },
      "source": [
        "# Split dataset into train and test\n",
        "X_train, X_test, y_train, y_test = train_test_split(dataSkin, \n",
        "                                                    label,\n",
        "                                                    test_size=0.20, \n",
        "                                                    random_state=42)"
      ],
      "execution_count": 0,
      "outputs": []
    },
    {
      "cell_type": "code",
      "metadata": {
        "id": "D464FplHqWzb",
        "colab_type": "code",
        "colab": {}
      },
      "source": [
        "# global variables\n",
        "seed = 42\n",
        "num_folds = 10\n",
        "scoring = {'Accuracy': make_scorer(accuracy_score)}"
      ],
      "execution_count": 0,
      "outputs": []
    },
    {
      "cell_type": "markdown",
      "metadata": {
        "id": "DRwN_-jJ0fFA",
        "colab_type": "text"
      },
      "source": [
        "**Training using a Pipeline and Gridsearch**"
      ]
    },
    {
      "cell_type": "code",
      "metadata": {
        "id": "uwJ9B1ItVFLz",
        "colab_type": "code",
        "outputId": "81531723-c421-4fc3-9488-4602f60d2dc5",
        "colab": {
          "base_uri": "https://localhost:8080/",
          "height": 122
        }
      },
      "source": [
        "# A single Pipeline\n",
        "pipe = Pipeline(steps = [(\"clf\",MLPClassifier())])\n",
        "\n",
        "# create a dictionary with the hyperparameters\n",
        "search_space = [\n",
        "                {\"clf\":[MLPClassifier()],\n",
        "                 \"clf__hidden_layer_sizes\": [(120,240),(120,480,120),(480,800,480)],\n",
        "                 \"clf__activation\": [\"logistic\",\"relu\"],\n",
        "                 \"clf__solver\": [\"sgd\"],\n",
        "                 \"clf__max_iter\": [50000],\n",
        "                 \"clf__early_stopping\":[True],\n",
        "                 \"clf__n_iter_no_change\":[20],\n",
        "                 \"clf__validation_fraction\":[0.20], \n",
        "                 }\n",
        "                ]\n",
        "\n",
        "# create grid search\n",
        "kfold = StratifiedKFold(n_splits=num_folds,random_state=seed)\n",
        "\n",
        "# return_train_score=True\n",
        "# official documentation: \"computing the scores on the training set can be\n",
        "# computationally expensive and is not strictly required to\n",
        "# select the parameters that yield the best generalization performance\".\n",
        "grid = GridSearchCV(estimator=pipe, \n",
        "                    param_grid=search_space,\n",
        "                    cv=kfold,\n",
        "                    scoring=scoring,\n",
        "                    return_train_score=True,\n",
        "                    n_jobs=-1,\n",
        "                    refit=\"Accuracy\")\n",
        "\n",
        "tmp = time.time()\n",
        "\n",
        "# fit grid search\n",
        "best_model = grid.fit(X_train,y_train)\n",
        "\n",
        "print(\"CPU Training Time: %s seconds\" % (str(time.time() - tmp)))"
      ],
      "execution_count": 23,
      "outputs": [
        {
          "output_type": "stream",
          "text": [
            "/usr/local/lib/python3.6/dist-packages/joblib/externals/loky/process_executor.py:706: UserWarning: A worker stopped while some jobs were given to the executor. This can be caused by a too short worker timeout or by a memory leak.\n",
            "  \"timeout or by a memory leak.\", UserWarning\n",
            "/usr/local/lib/python3.6/dist-packages/sklearn/neural_network/multilayer_perceptron.py:921: DataConversionWarning: A column-vector y was passed when a 1d array was expected. Please change the shape of y to (n_samples, ), for example using ravel().\n",
            "  y = column_or_1d(y, warn=True)\n"
          ],
          "name": "stderr"
        },
        {
          "output_type": "stream",
          "text": [
            "CPU Training Time: 776.1670618057251 seconds\n"
          ],
          "name": "stdout"
        }
      ]
    },
    {
      "cell_type": "code",
      "metadata": {
        "id": "FD8HPCmUqowb",
        "colab_type": "code",
        "outputId": "f40f4908-99be-4e48-a02c-50d39b3b96ee",
        "colab": {
          "base_uri": "https://localhost:8080/",
          "height": 156
        }
      },
      "source": [
        "print(\"Best: %f using %s\" % (best_model.best_score_,best_model.best_params_))"
      ],
      "execution_count": 24,
      "outputs": [
        {
          "output_type": "stream",
          "text": [
            "Best: 0.797917 using {'clf': MLPClassifier(activation='logistic', alpha=0.0001, batch_size='auto',\n",
            "              beta_1=0.9, beta_2=0.999, early_stopping=True, epsilon=1e-08,\n",
            "              hidden_layer_sizes=(120, 240), learning_rate='constant',\n",
            "              learning_rate_init=0.001, max_iter=50000, momentum=0.9,\n",
            "              n_iter_no_change=20, nesterovs_momentum=True, power_t=0.5,\n",
            "              random_state=None, shuffle=True, solver='sgd', tol=0.0001,\n",
            "              validation_fraction=0.2, verbose=False, warm_start=False), 'clf__activation': 'logistic', 'clf__early_stopping': True, 'clf__hidden_layer_sizes': (120, 240), 'clf__max_iter': 50000, 'clf__n_iter_no_change': 20, 'clf__solver': 'sgd', 'clf__validation_fraction': 0.2}\n"
          ],
          "name": "stdout"
        }
      ]
    },
    {
      "cell_type": "code",
      "metadata": {
        "id": "ZK8ro8PWrLct",
        "colab_type": "code",
        "colab": {}
      },
      "source": [
        "result = pd.DataFrame(best_model.cv_results_)"
      ],
      "execution_count": 0,
      "outputs": []
    },
    {
      "cell_type": "code",
      "metadata": {
        "id": "gas9Ei0Hzpcs",
        "colab_type": "code",
        "outputId": "57e2c6d4-709b-44b7-d902-515de7d36053",
        "colab": {
          "base_uri": "https://localhost:8080/",
          "height": 235
        }
      },
      "source": [
        "result_acc = result[['mean_train_Accuracy', 'std_train_Accuracy',\n",
        "                     'mean_test_Accuracy', 'std_test_Accuracy','rank_test_Accuracy',\"param_clf__hidden_layer_sizes\"]].copy()\n",
        "result_acc[\"std_ratio\"] = result_acc.std_test_Accuracy/result_acc.std_train_Accuracy\n",
        "result_acc.sort_values(by=\"rank_test_Accuracy\",ascending=True)"
      ],
      "execution_count": 26,
      "outputs": [
        {
          "output_type": "execute_result",
          "data": {
            "text/html": [
              "<div>\n",
              "<style scoped>\n",
              "    .dataframe tbody tr th:only-of-type {\n",
              "        vertical-align: middle;\n",
              "    }\n",
              "\n",
              "    .dataframe tbody tr th {\n",
              "        vertical-align: top;\n",
              "    }\n",
              "\n",
              "    .dataframe thead th {\n",
              "        text-align: right;\n",
              "    }\n",
              "</style>\n",
              "<table border=\"1\" class=\"dataframe\">\n",
              "  <thead>\n",
              "    <tr style=\"text-align: right;\">\n",
              "      <th></th>\n",
              "      <th>mean_train_Accuracy</th>\n",
              "      <th>std_train_Accuracy</th>\n",
              "      <th>mean_test_Accuracy</th>\n",
              "      <th>std_test_Accuracy</th>\n",
              "      <th>rank_test_Accuracy</th>\n",
              "      <th>param_clf__hidden_layer_sizes</th>\n",
              "      <th>std_ratio</th>\n",
              "    </tr>\n",
              "  </thead>\n",
              "  <tbody>\n",
              "    <tr>\n",
              "      <th>0</th>\n",
              "      <td>0.797917</td>\n",
              "      <td>0.000386</td>\n",
              "      <td>0.797917</td>\n",
              "      <td>0.003463</td>\n",
              "      <td>1</td>\n",
              "      <td>(120, 240)</td>\n",
              "      <td>8.975725</td>\n",
              "    </tr>\n",
              "    <tr>\n",
              "      <th>1</th>\n",
              "      <td>0.797917</td>\n",
              "      <td>0.000386</td>\n",
              "      <td>0.797917</td>\n",
              "      <td>0.003463</td>\n",
              "      <td>1</td>\n",
              "      <td>(120, 480, 120)</td>\n",
              "      <td>8.975725</td>\n",
              "    </tr>\n",
              "    <tr>\n",
              "      <th>2</th>\n",
              "      <td>0.797917</td>\n",
              "      <td>0.000386</td>\n",
              "      <td>0.797917</td>\n",
              "      <td>0.003463</td>\n",
              "      <td>1</td>\n",
              "      <td>(480, 800, 480)</td>\n",
              "      <td>8.975725</td>\n",
              "    </tr>\n",
              "    <tr>\n",
              "      <th>3</th>\n",
              "      <td>0.798033</td>\n",
              "      <td>0.000465</td>\n",
              "      <td>0.796875</td>\n",
              "      <td>0.004187</td>\n",
              "      <td>4</td>\n",
              "      <td>(120, 240)</td>\n",
              "      <td>9.005827</td>\n",
              "    </tr>\n",
              "    <tr>\n",
              "      <th>4</th>\n",
              "      <td>0.798264</td>\n",
              "      <td>0.000927</td>\n",
              "      <td>0.794792</td>\n",
              "      <td>0.006886</td>\n",
              "      <td>5</td>\n",
              "      <td>(120, 480, 120)</td>\n",
              "      <td>7.427805</td>\n",
              "    </tr>\n",
              "    <tr>\n",
              "      <th>5</th>\n",
              "      <td>0.798380</td>\n",
              "      <td>0.000724</td>\n",
              "      <td>0.794792</td>\n",
              "      <td>0.007529</td>\n",
              "      <td>5</td>\n",
              "      <td>(480, 800, 480)</td>\n",
              "      <td>10.402485</td>\n",
              "    </tr>\n",
              "  </tbody>\n",
              "</table>\n",
              "</div>"
            ],
            "text/plain": [
              "   mean_train_Accuracy  ...  std_ratio\n",
              "0             0.797917  ...   8.975725\n",
              "1             0.797917  ...   8.975725\n",
              "2             0.797917  ...   8.975725\n",
              "3             0.798033  ...   9.005827\n",
              "4             0.798264  ...   7.427805\n",
              "5             0.798380  ...  10.402485\n",
              "\n",
              "[6 rows x 7 columns]"
            ]
          },
          "metadata": {
            "tags": []
          },
          "execution_count": 26
        }
      ]
    },
    {
      "cell_type": "code",
      "metadata": {
        "id": "KOvqgPWTxRSK",
        "colab_type": "code",
        "outputId": "a77e63e4-a633-4d49-8625-301ba01665ab",
        "colab": {
          "base_uri": "https://localhost:8080/",
          "height": 34
        }
      },
      "source": [
        "# best model\n",
        "predict = best_model.best_estimator_.predict(X_test)\n",
        "print(accuracy_score(y_test, predict))"
      ],
      "execution_count": 30,
      "outputs": [
        {
          "output_type": "stream",
          "text": [
            "0.8083333333333333\n"
          ],
          "name": "stdout"
        }
      ]
    }
  ]
}